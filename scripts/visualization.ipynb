{
 "cells": [
  {
   "cell_type": "code",
   "execution_count": 31,
   "metadata": {},
   "outputs": [
    {
     "ename": "TypeError",
     "evalue": "%d format: a number is required, not str",
     "output_type": "error",
     "traceback": [
      "\u001b[1;31m---------------------------------------------------------------------------\u001b[0m",
      "\u001b[1;31mTypeError\u001b[0m                                 Traceback (most recent call last)",
      "Cell \u001b[1;32mIn[31], line 16\u001b[0m\n\u001b[0;32m     13\u001b[0m         \u001b[39mif\u001b[39;00m filenum \u001b[39m==\u001b[39m filename:\n\u001b[0;32m     14\u001b[0m             bbox\u001b[39m.\u001b[39mappend(bb[\u001b[39m1\u001b[39m:\u001b[39m5\u001b[39m])\n\u001b[1;32m---> 16\u001b[0m image \u001b[39m=\u001b[39m cv2\u001b[39m.\u001b[39mimread(\u001b[39m\"\u001b[39m\u001b[39mC:/Users/PC/Desktop/dataset/dataset/test/image/\u001b[39m\u001b[39m\"\u001b[39m\u001b[39m+\u001b[39m\u001b[39m\"\u001b[39;49m\u001b[39m%05d\u001b[39;49;00m\u001b[39m\"\u001b[39;49m\u001b[39m%\u001b[39;49m\u001b[39mstr\u001b[39;49m(filename)\u001b[39m+\u001b[39m\u001b[39m'\u001b[39m\u001b[39m.jpg\u001b[39m\u001b[39m'\u001b[39m)\n\u001b[0;32m     17\u001b[0m \u001b[39mfor\u001b[39;00m box \u001b[39min\u001b[39;00m bbox:\n\u001b[0;32m     18\u001b[0m     box \u001b[39m=\u001b[39m \u001b[39mlist\u001b[39m(\u001b[39mmap\u001b[39m(\u001b[39mint\u001b[39m,box))\n",
      "\u001b[1;31mTypeError\u001b[0m: %d format: a number is required, not str"
     ]
    }
   ],
   "source": [
    "import os\n",
    "import cv2\n",
    "import matplotlib.pyplot as plt\n",
    "\n",
    "filename = int(input())\n",
    "# filename = filename\n",
    "bbox = []\n",
    "with open(\"C:/Users/PC/Desktop/dev/yolo/미래지능정통교.txt\",'r') as f:\n",
    "    data = f.readlines()\n",
    "    for i in data:\n",
    "        bb = i.split(',')\n",
    "        filenum = int(bb[0][1:-5])\n",
    "        if filenum == filename:\n",
    "            bbox.append(bb[1:5])\n",
    "\n",
    "image = cv2.imread(\"C:/Users/PC/Desktop/dataset/dataset/test/image/\"+\"%05d\"%(filename)+'.jpg')\n",
    "for box in bbox:\n",
    "    box = list(map(int,box))\n",
    "    image = cv2.rectangle(image,(box[0],box[1]),(box[0]+box[2],box[1]+box[3]),(0,255,0),3)\n",
    "plt.imshow(image)"
   ]
  },
  {
   "cell_type": "code",
   "execution_count": 12,
   "metadata": {},
   "outputs": [
    {
     "name": "stdout",
     "output_type": "stream",
     "text": [
      "25855\n"
     ]
    }
   ],
   "source": [
    "err = []\n",
    "err1= []\n",
    "with open(\"C:/Users/PC/Desktop/dev/yolo/gt.txt\",'r') as f:\n",
    "    data = f.readlines()\n",
    "    print(len(data))\n",
    "    for i in data:\n",
    "        i.replace(\"\\n\",'')\n",
    "        bb = i.split(',')\n",
    "        filenum = int(bb[0][1:-5])\n",
    "        # if filenum > 20000:\n",
    "        #     print(bb[-1])\n",
    "        if filenum <= 20000 and int(bb[-1]) == 1:\n",
    "            err1.append(filenum)\n",
    "        if filenum > 20000 and int(bb[-1]) == 0:\n",
    "            err.append(filenum)"
   ]
  },
  {
   "cell_type": "code",
   "execution_count": 25,
   "metadata": {},
   "outputs": [],
   "source": [
    "sum = 0.0\n",
    "count = 0\n",
    "with open(\"C:/Users/PC/Downloads/미래지능정통교_submission.txt\",'r') as f:\n",
    "    data = f.readlines()\n",
    "    for i in data:\n",
    "        bb = i.split(',')\n",
    "        filenum = int(bb[0][1:-5])\n",
    "        if int(bb[-1]) != 0 and filenum in err:\n",
    "            count = count + 1\n",
    "            sum += float(bb[-2])"
   ]
  },
  {
   "cell_type": "code",
   "execution_count": 26,
   "metadata": {},
   "outputs": [
    {
     "name": "stdout",
     "output_type": "stream",
     "text": [
      "182\n",
      "134.60787999999997\n",
      "0.7396037362637361\n"
     ]
    }
   ],
   "source": [
    "print(count)\n",
    "print(sum)\n",
    "print(sum/count)"
   ]
  },
  {
   "cell_type": "code",
   "execution_count": 19,
   "metadata": {},
   "outputs": [
    {
     "name": "stdout",
     "output_type": "stream",
     "text": [
      "1033\n"
     ]
    }
   ],
   "source": [
    "print(len(err))"
   ]
  }
 ],
 "metadata": {
  "kernelspec": {
   "display_name": "yolo",
   "language": "python",
   "name": "python3"
  },
  "language_info": {
   "codemirror_mode": {
    "name": "ipython",
    "version": 3
   },
   "file_extension": ".py",
   "mimetype": "text/x-python",
   "name": "python",
   "nbconvert_exporter": "python",
   "pygments_lexer": "ipython3",
   "version": "3.8.16"
  },
  "orig_nbformat": 4
 },
 "nbformat": 4,
 "nbformat_minor": 2
}
